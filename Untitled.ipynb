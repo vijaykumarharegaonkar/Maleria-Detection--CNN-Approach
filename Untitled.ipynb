{
 "cells": [
  {
   "cell_type": "markdown",
   "id": "4cca960b",
   "metadata": {},
   "source": [
    "Developing Deep learning project to predict given patient is having Maleria or not. Using Malaria Cell Images Dataset to build and train model.Here we are trying Creating CNN Using Scratch And Transfer Learning to obtain best accurancy"
   ]
  },
  {
   "cell_type": "code",
   "execution_count": 19,
   "id": "0bcc424d",
   "metadata": {},
   "outputs": [],
   "source": [
    "#import the libraries as shown below\n",
    "\n",
    "from tensorflow.keras.layers import Input,Lambda,Dense,Flatten,Conv2D\n",
    "from tensorflow.keras.models import Model\n",
    "from tensorflow.keras.applications.vgg19 import VGG19\n",
    "from tensorflow.keras.applications.resnet50 import preprocess_input\n",
    "from tensorflow.keras.preprocessing import image\n",
    "from tensorflow.keras.preprocessing.image import ImageDataGenerator,load_img\n",
    "from tensorflow.keras.models import Sequential\n",
    "import numpy as np\n",
    "from glob import glob\n",
    "import matplotlib.pyplot as plt\n"
   ]
  },
  {
   "cell_type": "code",
   "execution_count": 20,
   "id": "aa91445f",
   "metadata": {},
   "outputs": [],
   "source": [
    "# Re-Size all the images to this\n",
    "IMAGE_SIZE = [224,224]\n",
    "\n",
    "train_path = 'Dataset/Train'\n",
    "valid_path = 'Dataset/Test'"
   ]
  },
  {
   "cell_type": "markdown",
   "id": "07ea8398",
   "metadata": {},
   "source": [
    "Import the VGG19 library as shown below and add preprocessing layer to the front of VGG\n",
    "here we will be using imagenet weights"
   ]
  },
  {
   "cell_type": "code",
   "execution_count": 21,
   "id": "6f9bd0ec",
   "metadata": {},
   "outputs": [],
   "source": [
    "\n",
    "vgg19 = VGG19(input_shape=IMAGE_SIZE + [3], weights='imagenet', include_top=False)"
   ]
  },
  {
   "cell_type": "code",
   "execution_count": 22,
   "id": "298da1fb",
   "metadata": {},
   "outputs": [
    {
     "name": "stdout",
     "output_type": "stream",
     "text": [
      "Model: \"vgg19\"\n",
      "_________________________________________________________________\n",
      "Layer (type)                 Output Shape              Param #   \n",
      "=================================================================\n",
      "input_4 (InputLayer)         [(None, 224, 224, 3)]     0         \n",
      "_________________________________________________________________\n",
      "block1_conv1 (Conv2D)        (None, 224, 224, 64)      1792      \n",
      "_________________________________________________________________\n",
      "block1_conv2 (Conv2D)        (None, 224, 224, 64)      36928     \n",
      "_________________________________________________________________\n",
      "block1_pool (MaxPooling2D)   (None, 112, 112, 64)      0         \n",
      "_________________________________________________________________\n",
      "block2_conv1 (Conv2D)        (None, 112, 112, 128)     73856     \n",
      "_________________________________________________________________\n",
      "block2_conv2 (Conv2D)        (None, 112, 112, 128)     147584    \n",
      "_________________________________________________________________\n",
      "block2_pool (MaxPooling2D)   (None, 56, 56, 128)       0         \n",
      "_________________________________________________________________\n",
      "block3_conv1 (Conv2D)        (None, 56, 56, 256)       295168    \n",
      "_________________________________________________________________\n",
      "block3_conv2 (Conv2D)        (None, 56, 56, 256)       590080    \n",
      "_________________________________________________________________\n",
      "block3_conv3 (Conv2D)        (None, 56, 56, 256)       590080    \n",
      "_________________________________________________________________\n",
      "block3_conv4 (Conv2D)        (None, 56, 56, 256)       590080    \n",
      "_________________________________________________________________\n",
      "block3_pool (MaxPooling2D)   (None, 28, 28, 256)       0         \n",
      "_________________________________________________________________\n",
      "block4_conv1 (Conv2D)        (None, 28, 28, 512)       1180160   \n",
      "_________________________________________________________________\n",
      "block4_conv2 (Conv2D)        (None, 28, 28, 512)       2359808   \n",
      "_________________________________________________________________\n",
      "block4_conv3 (Conv2D)        (None, 28, 28, 512)       2359808   \n",
      "_________________________________________________________________\n",
      "block4_conv4 (Conv2D)        (None, 28, 28, 512)       2359808   \n",
      "_________________________________________________________________\n",
      "block4_pool (MaxPooling2D)   (None, 14, 14, 512)       0         \n",
      "_________________________________________________________________\n",
      "block5_conv1 (Conv2D)        (None, 14, 14, 512)       2359808   \n",
      "_________________________________________________________________\n",
      "block5_conv2 (Conv2D)        (None, 14, 14, 512)       2359808   \n",
      "_________________________________________________________________\n",
      "block5_conv3 (Conv2D)        (None, 14, 14, 512)       2359808   \n",
      "_________________________________________________________________\n",
      "block5_conv4 (Conv2D)        (None, 14, 14, 512)       2359808   \n",
      "_________________________________________________________________\n",
      "block5_pool (MaxPooling2D)   (None, 7, 7, 512)         0         \n",
      "=================================================================\n",
      "Total params: 20,024,384\n",
      "Trainable params: 20,024,384\n",
      "Non-trainable params: 0\n",
      "_________________________________________________________________\n",
      "None\n"
     ]
    }
   ],
   "source": [
    "print(vgg19.summary())"
   ]
  },
  {
   "cell_type": "code",
   "execution_count": 7,
   "id": "237dcda0",
   "metadata": {},
   "outputs": [
    {
     "name": "stdout",
     "output_type": "stream",
     "text": [
      "2.4.1\n"
     ]
    }
   ],
   "source": [
    "import tensorflow as tf\n",
    "print(tf.__version__)"
   ]
  },
  {
   "cell_type": "code",
   "execution_count": 24,
   "id": "cd229cc3",
   "metadata": {},
   "outputs": [],
   "source": [
    "# Don't Train existing weights\n",
    "for layer in vgg19.layers:\n",
    "    layer.trainable = False"
   ]
  },
  {
   "cell_type": "markdown",
   "id": "bd9c4fc8",
   "metadata": {},
   "source": [
    "#Useful for getting number of output classes / Files \n"
   ]
  },
  {
   "cell_type": "code",
   "execution_count": 25,
   "id": "581520c5",
   "metadata": {},
   "outputs": [],
   "source": [
    "folders = glob('Dataset/Train/*')"
   ]
  },
  {
   "cell_type": "code",
   "execution_count": 27,
   "id": "596dd10d",
   "metadata": {},
   "outputs": [
    {
     "data": {
      "text/plain": [
       "['Dataset/Train/Parasite', 'Dataset/Train/Uninfected']"
      ]
     },
     "execution_count": 27,
     "metadata": {},
     "output_type": "execute_result"
    }
   ],
   "source": [
    "folders"
   ]
  },
  {
   "cell_type": "markdown",
   "id": "c463c4e8",
   "metadata": {},
   "source": [
    "Our Layers - you can add more if you want"
   ]
  },
  {
   "cell_type": "code",
   "execution_count": 28,
   "id": "e0adb7d5",
   "metadata": {},
   "outputs": [],
   "source": [
    "x = Flatten()(vgg19.output)"
   ]
  },
  {
   "cell_type": "code",
   "execution_count": 29,
   "id": "29026226",
   "metadata": {},
   "outputs": [],
   "source": [
    "prediction = Dense(len(folders),activation='softmax')(x)"
   ]
  },
  {
   "cell_type": "markdown",
   "id": "c88a2f4b",
   "metadata": {},
   "source": [
    "Create a Model Object"
   ]
  },
  {
   "cell_type": "code",
   "execution_count": 31,
   "id": "ce5c39d7",
   "metadata": {},
   "outputs": [],
   "source": [
    " model = Model(inputs=vgg19.input, outputs=prediction)"
   ]
  },
  {
   "cell_type": "markdown",
   "id": "0326a84f",
   "metadata": {},
   "source": [
    "view the structure of the model"
   ]
  },
  {
   "cell_type": "markdown",
   "id": "228f3dee",
   "metadata": {},
   "source": [
    "model.summary()"
   ]
  },
  {
   "cell_type": "code",
   "execution_count": 35,
   "id": "419d0a8d",
   "metadata": {},
   "outputs": [
    {
     "name": "stdout",
     "output_type": "stream",
     "text": [
      "Model: \"model\"\n",
      "_________________________________________________________________\n",
      "Layer (type)                 Output Shape              Param #   \n",
      "=================================================================\n",
      "input_4 (InputLayer)         [(None, 224, 224, 3)]     0         \n",
      "_________________________________________________________________\n",
      "block1_conv1 (Conv2D)        (None, 224, 224, 64)      1792      \n",
      "_________________________________________________________________\n",
      "block1_conv2 (Conv2D)        (None, 224, 224, 64)      36928     \n",
      "_________________________________________________________________\n",
      "block1_pool (MaxPooling2D)   (None, 112, 112, 64)      0         \n",
      "_________________________________________________________________\n",
      "block2_conv1 (Conv2D)        (None, 112, 112, 128)     73856     \n",
      "_________________________________________________________________\n",
      "block2_conv2 (Conv2D)        (None, 112, 112, 128)     147584    \n",
      "_________________________________________________________________\n",
      "block2_pool (MaxPooling2D)   (None, 56, 56, 128)       0         \n",
      "_________________________________________________________________\n",
      "block3_conv1 (Conv2D)        (None, 56, 56, 256)       295168    \n",
      "_________________________________________________________________\n",
      "block3_conv2 (Conv2D)        (None, 56, 56, 256)       590080    \n",
      "_________________________________________________________________\n",
      "block3_conv3 (Conv2D)        (None, 56, 56, 256)       590080    \n",
      "_________________________________________________________________\n",
      "block3_conv4 (Conv2D)        (None, 56, 56, 256)       590080    \n",
      "_________________________________________________________________\n",
      "block3_pool (MaxPooling2D)   (None, 28, 28, 256)       0         \n",
      "_________________________________________________________________\n",
      "block4_conv1 (Conv2D)        (None, 28, 28, 512)       1180160   \n",
      "_________________________________________________________________\n",
      "block4_conv2 (Conv2D)        (None, 28, 28, 512)       2359808   \n",
      "_________________________________________________________________\n",
      "block4_conv3 (Conv2D)        (None, 28, 28, 512)       2359808   \n",
      "_________________________________________________________________\n",
      "block4_conv4 (Conv2D)        (None, 28, 28, 512)       2359808   \n",
      "_________________________________________________________________\n",
      "block4_pool (MaxPooling2D)   (None, 14, 14, 512)       0         \n",
      "_________________________________________________________________\n",
      "block5_conv1 (Conv2D)        (None, 14, 14, 512)       2359808   \n",
      "_________________________________________________________________\n",
      "block5_conv2 (Conv2D)        (None, 14, 14, 512)       2359808   \n",
      "_________________________________________________________________\n",
      "block5_conv3 (Conv2D)        (None, 14, 14, 512)       2359808   \n",
      "_________________________________________________________________\n",
      "block5_conv4 (Conv2D)        (None, 14, 14, 512)       2359808   \n",
      "_________________________________________________________________\n",
      "block5_pool (MaxPooling2D)   (None, 7, 7, 512)         0         \n",
      "_________________________________________________________________\n",
      "flatten (Flatten)            (None, 25088)             0         \n",
      "_________________________________________________________________\n",
      "dense (Dense)                (None, 2)                 50178     \n",
      "=================================================================\n",
      "Total params: 20,074,562\n",
      "Trainable params: 50,178\n",
      "Non-trainable params: 20,024,384\n",
      "_________________________________________________________________\n"
     ]
    }
   ],
   "source": [
    "model.summary()"
   ]
  },
  {
   "cell_type": "markdown",
   "id": "b4f760f9",
   "metadata": {},
   "source": [
    "tell the model what cost and optimization method to use"
   ]
  },
  {
   "cell_type": "code",
   "execution_count": 36,
   "id": "8d0e8426",
   "metadata": {},
   "outputs": [],
   "source": [
    "model.compile(loss = 'categorical_crossentropy',optimizer = 'adam', metrics = ['accuracy'])"
   ]
  },
  {
   "cell_type": "markdown",
   "id": "43bf6691",
   "metadata": {},
   "source": [
    "Use the image Data generator to import the images from the dataset"
   ]
  },
  {
   "cell_type": "code",
   "execution_count": 37,
   "id": "b131ecaa",
   "metadata": {},
   "outputs": [],
   "source": [
    "from tensorflow.keras.preprocessing.image import ImageDataGenerator\n",
    "\n",
    "train_datagen = ImageDataGenerator(rescale = 1./255,shear_range =0.2,zoom_range =0.2,horizontal_flip=True)\n",
    "\n",
    "test_datagen = ImageDataGenerator(rescale = 1./255)"
   ]
  },
  {
   "cell_type": "markdown",
   "id": "0190bb12",
   "metadata": {},
   "source": [
    "Make sure you provide the same target size as initialised for the image"
   ]
  },
  {
   "cell_type": "code",
   "execution_count": 40,
   "id": "1f473325",
   "metadata": {},
   "outputs": [
    {
     "name": "stdout",
     "output_type": "stream",
     "text": [
      "Found 416 images belonging to 2 classes.\n"
     ]
    }
   ],
   "source": [
    "training_set = train_datagen.flow_from_directory('Dataset/Train',target_size =(244,244),batch_size = 32, class_mode = 'categorical')"
   ]
  },
  {
   "cell_type": "code",
   "execution_count": 41,
   "id": "09919dfd",
   "metadata": {},
   "outputs": [
    {
     "data": {
      "text/plain": [
       "<tensorflow.python.keras.preprocessing.image.DirectoryIterator at 0x6419bfac8>"
      ]
     },
     "execution_count": 41,
     "metadata": {},
     "output_type": "execute_result"
    }
   ],
   "source": [
    "training_set"
   ]
  },
  {
   "cell_type": "code",
   "execution_count": 43,
   "id": "4714d347",
   "metadata": {},
   "outputs": [
    {
     "name": "stdout",
     "output_type": "stream",
     "text": [
      "Found 134 images belonging to 2 classes.\n"
     ]
    }
   ],
   "source": [
    "test_set = test_datagen.flow_from_directory('Dataset/Test',target_size =(244,244),batch_size = 32, class_mode = 'categorical')"
   ]
  },
  {
   "cell_type": "markdown",
   "id": "91f4ed5f",
   "metadata": {},
   "source": [
    "fit the model\n",
    "run the cell. it will take some time to execute"
   ]
  },
  {
   "cell_type": "code",
   "execution_count": 46,
   "id": "6ece882d",
   "metadata": {},
   "outputs": [
    {
     "name": "stdout",
     "output_type": "stream",
     "text": [
      "Epoch 1/10\n",
      "13/13 [==============================] - 151s 12s/step - loss: 0.4151 - accuracy: 0.8125 - val_loss: 0.4382 - val_accuracy: 0.7612\n",
      "Epoch 2/10\n",
      "13/13 [==============================] - 152s 12s/step - loss: 0.3449 - accuracy: 0.8630 - val_loss: 0.4243 - val_accuracy: 0.7985\n",
      "Epoch 3/10\n",
      "13/13 [==============================] - 139s 11s/step - loss: 0.3121 - accuracy: 0.8870 - val_loss: 0.3828 - val_accuracy: 0.8433\n",
      "Epoch 4/10\n",
      "13/13 [==============================] - 403s 33s/step - loss: 0.2707 - accuracy: 0.9159 - val_loss: 0.3914 - val_accuracy: 0.8209\n",
      "Epoch 5/10\n",
      "13/13 [==============================] - 148s 12s/step - loss: 0.2485 - accuracy: 0.9135 - val_loss: 0.3486 - val_accuracy: 0.8582\n",
      "Epoch 6/10\n",
      "13/13 [==============================] - 173s 14s/step - loss: 0.2376 - accuracy: 0.9351 - val_loss: 0.3661 - val_accuracy: 0.8433\n",
      "Epoch 7/10\n",
      "13/13 [==============================] - 149s 11s/step - loss: 0.2119 - accuracy: 0.9423 - val_loss: 0.3962 - val_accuracy: 0.7985\n",
      "Epoch 8/10\n",
      "13/13 [==============================] - 162s 13s/step - loss: 0.2206 - accuracy: 0.9183 - val_loss: 0.3078 - val_accuracy: 0.8806\n",
      "Epoch 9/10\n",
      "13/13 [==============================] - 164s 13s/step - loss: 0.2219 - accuracy: 0.9111 - val_loss: 0.6576 - val_accuracy: 0.6642\n",
      "Epoch 10/10\n",
      "13/13 [==============================] - 162s 13s/step - loss: 0.2655 - accuracy: 0.8942 - val_loss: 0.3328 - val_accuracy: 0.8358\n"
     ]
    }
   ],
   "source": [
    "r = model.fit(training_set,validation_data = test_set,epochs=10,steps_per_epoch=len(training_set),validation_steps=len(test_set))"
   ]
  },
  {
   "cell_type": "markdown",
   "id": "1e8afeff",
   "metadata": {},
   "source": [
    "Plot the loss"
   ]
  },
  {
   "cell_type": "code",
   "execution_count": 47,
   "id": "d775f80f",
   "metadata": {},
   "outputs": [
    {
     "data": {
      "image/png": "[encoded data removed]",
      "text/plain": [
       "<Figure size 432x288 with 1 Axes>"
      ]
     },
     "metadata": {
      "needs_background": "light"
     },
     "output_type": "display_data"
    },
    {
     "data": {
      "text/plain": [
       "<Figure size 432x288 with 0 Axes>"
      ]
     },
     "metadata": {},
     "output_type": "display_data"
    }
   ],
   "source": [
    "plt.plot(r.history['loss'],label='Train Loss')\n",
    "plt.plot(r.history['val_loss'],label='Val Loss')\n",
    "plt.legend()\n",
    "plt.show()\n",
    "plt.savefig('LossVal_loss')\n"
   ]
  },
  {
   "cell_type": "markdown",
   "id": "42e07746",
   "metadata": {},
   "source": [
    "plot the accuracy"
   ]
  },
  {
   "cell_type": "code",
   "execution_count": 48,
   "id": "798828cd",
   "metadata": {},
   "outputs": [
    {
     "data": {
      "image/png": "[encoded data removed]",
      "text/plain": [
       "<Figure size 432x288 with 1 Axes>"
      ]
     },
     "metadata": {
      "needs_background": "light"
     },
     "output_type": "display_data"
    },
    {
     "data": {
      "text/plain": [
       "<Figure size 432x288 with 0 Axes>"
      ]
     },
     "metadata": {},
     "output_type": "display_data"
    }
   ],
   "source": [
    "plt.plot(r.history['accuracy'],label='Train acc')\n",
    "plt.plot(r.history['val_accuracy'],label='val acc')\n",
    "plt.legend()\n",
    "plt.show()\n",
    "plt.savefig('AccVal_acc')"
   ]
  },
  {
   "cell_type": "markdown",
   "id": "f187c8a9",
   "metadata": {},
   "source": [
    "Save it as a h5 file"
   ]
  },
  {
   "cell_type": "code",
   "execution_count": 49,
   "id": "68f73ba8",
   "metadata": {},
   "outputs": [],
   "source": [
    "from tensorflow.keras.models import load_model\n",
    "model.save('model_vgg19.h5')"
   ]
  },
  {
   "cell_type": "code",
   "execution_count": 50,
   "id": "b77ee10a",
   "metadata": {},
   "outputs": [],
   "source": [
    "y_pred = model.predict(test_set)"
   ]
  },
  {
   "cell_type": "code",
   "execution_count": 51,
   "id": "64ec5587",
   "metadata": {},
   "outputs": [
    {
     "data": {
      "text/plain": [
       "array([[2.9620886e-01, 7.0379114e-01],\n",
       "       [9.9591488e-01, 4.0850830e-03],\n",
       "       [8.0980968e-01, 1.9019033e-01],\n",
       "       [4.4680181e-01, 5.5319816e-01],\n",
       "       [2.4717698e-01, 7.5282305e-01],\n",
       "       [9.9895799e-01, 1.0420028e-03],\n",
       "       [2.7366447e-01, 7.2633559e-01],\n",
       "       [8.8782978e-01, 1.1217024e-01],\n",
       "       [9.5496595e-01, 4.5034111e-02],\n",
       "       [9.5517385e-01, 4.4826124e-02],\n",
       "       [9.9636734e-01, 3.6326507e-03],\n",
       "       [5.7609439e-01, 4.2390561e-01],\n",
       "       [9.9985492e-01, 1.4500125e-04],\n",
       "       [4.8913556e-01, 5.1086444e-01],\n",
       "       [5.4921377e-01, 4.5078614e-01],\n",
       "       [9.6684498e-01, 3.3155084e-02],\n",
       "       [9.9997115e-01, 2.8805811e-05],\n",
       "       [8.2070667e-01, 1.7929332e-01],\n",
       "       [9.8009014e-01, 1.9909935e-02],\n",
       "       [9.5494890e-01, 4.5051131e-02],\n",
       "       [9.3314731e-01, 6.6852733e-02],\n",
       "       [8.4588331e-01, 1.5411665e-01],\n",
       "       [5.5801988e-01, 4.4198006e-01],\n",
       "       [9.9744141e-01, 2.5585929e-03],\n",
       "       [6.1452156e-01, 3.8547844e-01],\n",
       "       [9.9964821e-01, 3.5180902e-04],\n",
       "       [6.5175462e-01, 3.4824538e-01],\n",
       "       [9.6797270e-01, 3.2027289e-02],\n",
       "       [9.8969382e-01, 1.0306219e-02],\n",
       "       [5.9751695e-01, 4.0248305e-01],\n",
       "       [1.4055651e-01, 8.5944355e-01],\n",
       "       [9.8177171e-01, 1.8228279e-02],\n",
       "       [4.4194388e-01, 5.5805612e-01],\n",
       "       [9.9820042e-01, 1.7995636e-03],\n",
       "       [3.2555529e-01, 6.7444474e-01],\n",
       "       [9.9552745e-01, 4.4724946e-03],\n",
       "       [8.2402295e-01, 1.7597702e-01],\n",
       "       [7.7374035e-01, 2.2625969e-01],\n",
       "       [9.6846718e-01, 3.1532872e-02],\n",
       "       [8.9197087e-01, 1.0802906e-01],\n",
       "       [5.8752280e-01, 4.1247723e-01],\n",
       "       [9.9963415e-01, 3.6578241e-04],\n",
       "       [4.0047666e-01, 5.9952337e-01],\n",
       "       [9.6394944e-01, 3.6050510e-02],\n",
       "       [9.0557915e-01, 9.4420806e-02],\n",
       "       [6.0063004e-01, 3.9936998e-01],\n",
       "       [9.9960178e-01, 3.9823246e-04],\n",
       "       [9.9845123e-01, 1.5487294e-03],\n",
       "       [9.9084693e-01, 9.1530401e-03],\n",
       "       [6.8768620e-01, 3.1231382e-01],\n",
       "       [2.8248289e-01, 7.1751702e-01],\n",
       "       [7.3556477e-01, 2.6443523e-01],\n",
       "       [6.7171395e-01, 3.2828614e-01],\n",
       "       [8.7819666e-01, 1.2180341e-01],\n",
       "       [9.9807078e-01, 1.9292884e-03],\n",
       "       [9.9909925e-01, 9.0071181e-04],\n",
       "       [4.8772010e-01, 5.1227993e-01],\n",
       "       [9.9709725e-01, 2.9028158e-03],\n",
       "       [9.9946004e-01, 5.3992280e-04],\n",
       "       [9.6240646e-01, 3.7593536e-02],\n",
       "       [6.9567055e-01, 3.0432954e-01],\n",
       "       [8.1704551e-01, 1.8295443e-01],\n",
       "       [8.7046981e-01, 1.2953018e-01],\n",
       "       [9.4232953e-01, 5.7670478e-02],\n",
       "       [9.9636507e-01, 3.6349036e-03],\n",
       "       [9.5509869e-01, 4.4901330e-02],\n",
       "       [9.9036962e-01, 9.6303951e-03],\n",
       "       [8.5218757e-01, 1.4781240e-01],\n",
       "       [9.2779177e-01, 7.2208241e-02],\n",
       "       [6.1215210e-01, 3.8784790e-01],\n",
       "       [9.3367493e-01, 6.6325083e-02],\n",
       "       [7.7898973e-01, 2.2101024e-01],\n",
       "       [2.9943025e-01, 7.0056975e-01],\n",
       "       [9.8379427e-01, 1.6205769e-02],\n",
       "       [3.3561179e-01, 6.6438818e-01],\n",
       "       [4.9576834e-01, 5.0423169e-01],\n",
       "       [2.5209004e-01, 7.4790996e-01],\n",
       "       [4.7903630e-01, 5.2096373e-01],\n",
       "       [9.9418056e-01, 5.8194604e-03],\n",
       "       [3.0350089e-01, 6.9649911e-01],\n",
       "       [3.1403443e-01, 6.8596560e-01],\n",
       "       [2.9677469e-01, 7.0322531e-01],\n",
       "       [9.9955159e-01, 4.4836625e-04],\n",
       "       [4.8178250e-01, 5.1821744e-01],\n",
       "       [9.9995089e-01, 4.9136124e-05],\n",
       "       [9.3498200e-01, 6.5017976e-02],\n",
       "       [9.9711061e-01, 2.8894024e-03],\n",
       "       [9.7684574e-01, 2.3154231e-02],\n",
       "       [9.9832124e-01, 1.6787522e-03],\n",
       "       [9.9475217e-01, 5.2478076e-03],\n",
       "       [5.4048479e-01, 4.5951524e-01],\n",
       "       [7.9907048e-01, 2.0092955e-01],\n",
       "       [9.9743193e-01, 2.5680179e-03],\n",
       "       [2.6076531e-01, 7.3923469e-01],\n",
       "       [9.2680639e-01, 7.3193669e-02],\n",
       "       [6.7992580e-01, 3.2007420e-01],\n",
       "       [8.2037783e-01, 1.7962211e-01],\n",
       "       [9.5836073e-01, 4.1639317e-02],\n",
       "       [8.8638580e-01, 1.1361426e-01],\n",
       "       [8.8575011e-01, 1.1424989e-01],\n",
       "       [2.9938814e-01, 7.0061189e-01],\n",
       "       [6.5380180e-01, 3.4619814e-01],\n",
       "       [9.4725370e-01, 5.2746229e-02],\n",
       "       [5.1035905e-01, 4.8964095e-01],\n",
       "       [9.7241026e-01, 2.7589761e-02],\n",
       "       [9.9470168e-01, 5.2982490e-03],\n",
       "       [9.7548825e-01, 2.4511775e-02],\n",
       "       [5.1278102e-01, 4.8721898e-01],\n",
       "       [5.4729855e-01, 4.5270145e-01],\n",
       "       [9.1479528e-01, 8.5204683e-02],\n",
       "       [4.7342506e-01, 5.2657497e-01],\n",
       "       [9.9891067e-01, 1.0893855e-03],\n",
       "       [7.0620114e-01, 2.9379886e-01],\n",
       "       [9.9872404e-01, 1.2758977e-03],\n",
       "       [9.9278176e-01, 7.2182473e-03],\n",
       "       [6.5533030e-01, 3.4466964e-01],\n",
       "       [7.0981055e-01, 2.9018942e-01],\n",
       "       [9.9739420e-01, 2.6057379e-03],\n",
       "       [8.0510753e-01, 1.9489248e-01],\n",
       "       [3.2216117e-01, 6.7783880e-01],\n",
       "       [5.6379145e-01, 4.3620855e-01],\n",
       "       [9.9967527e-01, 3.2470474e-04],\n",
       "       [9.9794501e-01, 2.0550489e-03],\n",
       "       [9.9811506e-01, 1.8848985e-03],\n",
       "       [8.2377404e-01, 1.7622600e-01],\n",
       "       [9.5355499e-01, 4.6445031e-02],\n",
       "       [9.9212658e-01, 7.8733563e-03],\n",
       "       [3.3588651e-01, 6.6411352e-01],\n",
       "       [9.9362433e-01, 6.3755908e-03],\n",
       "       [5.7769018e-01, 4.2230979e-01],\n",
       "       [8.8631725e-01, 1.1368275e-01],\n",
       "       [9.9998927e-01, 1.0769295e-05],\n",
       "       [9.9754155e-01, 2.4585288e-03],\n",
       "       [9.6748841e-01, 3.2511663e-02]], dtype=float32)"
      ]
     },
     "execution_count": 51,
     "metadata": {},
     "output_type": "execute_result"
    }
   ],
   "source": [
    "y_pred "
   ]
  },
  {
   "cell_type": "code",
   "execution_count": null,
   "id": "6faf1e3f",
   "metadata": {},
   "outputs": [],
   "source": []
  }
 ],
 "metadata": {
  "kernelspec": {
   "display_name": "Python 3",
   "language": "python",
   "name": "python3"
  },
  "language_info": {
   "codemirror_mode": {
    "name": "ipython",
    "version": 3
   },
   "file_extension": ".py",
   "mimetype": "text/x-python",
   "name": "python",
   "nbconvert_exporter": "python",
   "pygments_lexer": "ipython3",
   "version": "3.6.13"
  }
 },
 "nbformat": 4,
 "nbformat_minor": 5
}
